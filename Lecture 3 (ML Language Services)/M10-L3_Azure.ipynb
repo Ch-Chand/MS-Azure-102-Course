{
 "cells": [
  {
   "cell_type": "markdown",
   "metadata": {},
   "source": [
    "<h1 style=\"color:orange; font-size:48px; text-align:center\">Topic 3: Extract insights from text with the Azure AI Language service</h1>\n",
    " \n",
    "The Language service is an Azure AI service that supports analysis of text, including language detection, sentiment analysis, key phrase extraction, and entity recognition.\n",
    "\n",
    "For example, suppose a travel agency wants to process hotel reviews that have been submitted to the company’s web site. By using the Language service, they can determine the language each review is written in, the sentiment (positive, neutral, or negative) of the reviews, key phrases that might indicate the main topics discussed in the review, and named entities, such as places, landmarks, or people mentioned in the reviews.\n",
    "\n",
    "Install the dependencies for text analytics. This contains the SDK to call the azure text-analytics API."
   ]
  },
  {
   "cell_type": "code",
   "execution_count": 1,
   "metadata": {},
   "outputs": [
    {
     "name": "stdout",
     "output_type": "stream",
     "text": [
      "Requirement already satisfied: azure-ai-textanalytics==5.3.0 in c:\\users\\autom\\anaconda3\\lib\\site-packages (5.3.0)\n",
      "Requirement already satisfied: typing-extensions>=4.0.1 in c:\\users\\autom\\anaconda3\\lib\\site-packages (from azure-ai-textanalytics==5.3.0) (4.7.1)\n",
      "Requirement already satisfied: isodate<1.0.0,>=0.6.1 in c:\\users\\autom\\anaconda3\\lib\\site-packages (from azure-ai-textanalytics==5.3.0) (0.6.1)\n",
      "Requirement already satisfied: azure-common~=1.1 in c:\\users\\autom\\anaconda3\\lib\\site-packages (from azure-ai-textanalytics==5.3.0) (1.1.28)\n",
      "Requirement already satisfied: azure-core<2.0.0,>=1.24.0 in c:\\users\\autom\\anaconda3\\lib\\site-packages (from azure-ai-textanalytics==5.3.0) (1.29.4)\n",
      "Requirement already satisfied: six>=1.11.0 in c:\\users\\autom\\anaconda3\\lib\\site-packages (from azure-core<2.0.0,>=1.24.0->azure-ai-textanalytics==5.3.0) (1.16.0)\n",
      "Requirement already satisfied: requests>=2.18.4 in c:\\users\\autom\\anaconda3\\lib\\site-packages (from azure-core<2.0.0,>=1.24.0->azure-ai-textanalytics==5.3.0) (2.28.1)\n",
      "Requirement already satisfied: idna<4,>=2.5 in c:\\users\\autom\\anaconda3\\lib\\site-packages (from requests>=2.18.4->azure-core<2.0.0,>=1.24.0->azure-ai-textanalytics==5.3.0) (3.3)\n",
      "Requirement already satisfied: certifi>=2017.4.17 in c:\\users\\autom\\anaconda3\\lib\\site-packages (from requests>=2.18.4->azure-core<2.0.0,>=1.24.0->azure-ai-textanalytics==5.3.0) (2022.12.7)\n",
      "Requirement already satisfied: urllib3<1.27,>=1.21.1 in c:\\users\\autom\\anaconda3\\lib\\site-packages (from requests>=2.18.4->azure-core<2.0.0,>=1.24.0->azure-ai-textanalytics==5.3.0) (1.26.11)\n",
      "Requirement already satisfied: charset-normalizer<3,>=2 in c:\\users\\autom\\anaconda3\\lib\\site-packages (from requests>=2.18.4->azure-core<2.0.0,>=1.24.0->azure-ai-textanalytics==5.3.0) (2.0.4)\n",
      "Note: you may need to restart the kernel to use updated packages.\n"
     ]
    },
    {
     "name": "stderr",
     "output_type": "stream",
     "text": [
      "WARNING: Ignoring invalid distribution -rotobuf (c:\\users\\autom\\anaconda3\\lib\\site-packages)\n",
      "WARNING: Ignoring invalid distribution -rotobuf (c:\\users\\autom\\anaconda3\\lib\\site-packages)\n",
      "WARNING: Ignoring invalid distribution -rotobuf (c:\\users\\autom\\anaconda3\\lib\\site-packages)\n",
      "WARNING: Ignoring invalid distribution -rotobuf (c:\\users\\autom\\anaconda3\\lib\\site-packages)\n",
      "WARNING: Ignoring invalid distribution -rotobuf (c:\\users\\autom\\anaconda3\\lib\\site-packages)\n",
      "WARNING: Ignoring invalid distribution -rotobuf (c:\\users\\autom\\anaconda3\\lib\\site-packages)\n"
     ]
    }
   ],
   "source": [
    "!pip install azure-ai-==5.3.0"
   ]
  },
  {
   "cell_type": "markdown",
   "metadata": {},
   "source": [
    "Now that you have created a client for the Text Analytics API, we can use it to detect the language, Evaluate sentiment, Identify key phrases, Extract entities and Extract linked entities from the text. Read the comments in the code below to understand how to use the client to call the API."
   ]
  },
  {
   "cell_type": "markdown",
   "metadata": {},
   "source": [
    "## How to get KEY & ENDPOINT?\n",
    "\n",
    "To create an Azure AI Services multi-service account and obtain the endpoint and key for a Python client app, you can follow these steps:\n",
    "\n",
    "Step 1: Sign in to Azure Portal\n",
    "- If you don't have an Azure account, you'll need to sign up for one. Once you have an account, log in to the Azure Portal.\n",
    "\n",
    "Step 2: Create a New Azure AI Service Account\n",
    "\n",
    "- In the Azure Portal, click on \"Create a resource\" in the left-hand menu.\n",
    "\n",
    "- Search for \"Azure AI\" in the search bar and select \"Azure AI.\"\n",
    "\n",
    "- Click on \"Create\" to start configuring your Azure AI service account.\n",
    "\n",
    "- In the \"Basics\" tab, provide the following information:\n",
    "\n",
    "    - Subscription: Choose your Azure subscription.\n",
    "    - Resource Group: Create a new resource group or select an existing one.\n",
    "    - Region: Choose the region where you want to deploy the AI service.\n",
    "    - Under the \"Configuration\" section, select \"Multi-service.\"\n",
    "\n",
    "- Provide a unique name for your multi-service account.\n",
    "\n",
    "- Leave the rest of the options as their default values or configure them according to your needs.\n",
    "\n",
    "- Review the configuration, and then click \"Review + create.\"\n",
    "\n",
    "- Review the summary, and if everything looks correct, click \"Create\" to create the multi-service account.\n",
    "\n",
    "Step 3: Obtain Endpoint and Key\n",
    "- After the multi-service account is created, follow these steps to obtain the endpoint and key:\n",
    "\n",
    "- Once the deployment is complete, navigate to the multi-service account you just created in the Azure Portal.\n",
    "\n",
    "- In the left-hand menu, under \"Settings,\" click on \"Keys and Endpoint.\"\n",
    "\n",
    "- You will see two keys, usually named \"Key 1\" and \"Key 2.\" Either key can be used for authentication. Copy one of the keys and store it securely.\n",
    "\n",
    "- Below the keys, you will find the \"Endpoint\" URL. Copy the URL; this is the endpoint you will use to access the AI services."
   ]
  },
  {
   "cell_type": "code",
   "execution_count": 8,
   "metadata": {},
   "outputs": [],
   "source": [
    "# Reading Credentials from Excel\n",
    "import pandas as pd\n",
    "from azure.core.credentials import AzureKeyCredential\n",
    "from azure.ai.textanalytics import TextAnalyticsClient\n",
    "\n",
    "df_cred = pd.read_excel(\"credentials.xlsx\")\n",
    "\n",
    "endpoint = df_cred[\"endpoint\"][0]\n",
    "key = df_cred[\"key\"][0]\n",
    "\n",
    "# Create client using endpoint and key\n",
    "credential = AzureKeyCredential(key)\n",
    "\n",
    "\n",
    "cog_client = TextAnalyticsClient(endpoint=endpoint, credential=credential)\n"
   ]
  },
  {
   "cell_type": "code",
   "execution_count": null,
   "metadata": {},
   "outputs": [],
   "source": [
    "cog_client.detect_language()"
   ]
  },
  {
   "cell_type": "code",
   "execution_count": null,
   "metadata": {},
   "outputs": [],
   "source": []
  },
  {
   "cell_type": "code",
   "execution_count": 18,
   "metadata": {},
   "outputs": [],
   "source": [
    "document = [\"I had an absolutely amazing stay at Golden Peak Guest House! From the moment I arrived, I was impressed by the warm and friendly staff who went above and beyond to make me feel welcome. The rooms were not only impeccably clean and beautifully decorated, but they also offered breathtaking views of the surrounding mountains.\",\n",
    "           \"یہ کلیدیں آپ کی Azure AI سروس API تک رسائی کے لیے استعمال ہوتی ہیں۔ اپنی چابیاں شیئر نہ کریں۔ انہیں محفوظ طریقے سے ذخیرہ کریں- مثال کے طور پر، Azure Key Vault کا استعمال کرتے ہوئے۔ ہم ان کلیدوں کو باقاعدگی سے دوبارہ تخلیق کرنے کی بھی تجویز کرتے ہیں۔ API کال کرنے کے لیے صرف ایک کلید ضروری ہے۔ پہلی کلید کو دوبارہ تخلیق کرتے وقت، آپ سروس تک مسلسل رسائی کے لیے دوسری کلید استعمال کر سکتے ہیں۔\"]"
   ]
  },
  {
   "cell_type": "code",
   "execution_count": 19,
   "metadata": {},
   "outputs": [
    {
     "data": {
      "text/plain": [
       "2"
      ]
     },
     "execution_count": 19,
     "metadata": {},
     "output_type": "execute_result"
    }
   ],
   "source": [
    "res = cog_client.detect_language(documents=document)\n",
    "len(res)"
   ]
  },
  {
   "cell_type": "code",
   "execution_count": 21,
   "metadata": {},
   "outputs": [
    {
     "data": {
      "text/plain": [
       "DetectLanguageResult(id=1, primary_language=DetectedLanguage(name=Urdu, iso6391_name=ur, confidence_score=0.99), warnings=[], statistics=None, is_error=False, kind=LanguageDetection)"
      ]
     },
     "execution_count": 21,
     "metadata": {},
     "output_type": "execute_result"
    }
   ],
   "source": [
    "res[1]"
   ]
  },
  {
   "cell_type": "code",
   "execution_count": 27,
   "metadata": {},
   "outputs": [
    {
     "data": {
      "text/plain": [
       "'neutral'"
      ]
     },
     "execution_count": 27,
     "metadata": {},
     "output_type": "execute_result"
    }
   ],
   "source": [
    "\n",
    "sentimentAnalysis = cog_client.analyze_sentiment(documents=document)\n",
    "sentimentAnalysis[1][\"sentiment\"]"
   ]
  },
  {
   "cell_type": "code",
   "execution_count": 29,
   "metadata": {},
   "outputs": [],
   "source": [
    "res = cog_client.extract_key_phrases(documents=document)"
   ]
  },
  {
   "cell_type": "code",
   "execution_count": 32,
   "metadata": {},
   "outputs": [
    {
     "data": {
      "text/plain": [
       "['Golden Peak Guest House',\n",
       " 'amazing stay',\n",
       " 'friendly staff',\n",
       " 'breathtaking views',\n",
       " 'surrounding mountains',\n",
       " 'moment',\n",
       " 'warm',\n",
       " 'rooms']"
      ]
     },
     "execution_count": 32,
     "metadata": {},
     "output_type": "execute_result"
    }
   ],
   "source": [
    "res[0][\"key_phrases\"]"
   ]
  },
  {
   "cell_type": "code",
   "execution_count": 34,
   "metadata": {},
   "outputs": [
    {
     "ename": "SyntaxError",
     "evalue": "EOL while scanning string literal (1348922731.py, line 3)",
     "output_type": "error",
     "traceback": [
      "\u001b[1;36m  File \u001b[1;32m\"C:\\Users\\autom\\AppData\\Local\\Temp\\ipykernel_6348\\1348922731.py\"\u001b[1;36m, line \u001b[1;32m3\u001b[0m\n\u001b[1;33m    I was impressed by the warm and friendly staff who went above and beyond to make me feel welcome. The rooms were not only impeccably clean and beautifully decorated, but they also offered breathtaking views of the surrounding mountains.\"\"\"\"\u001b[0m\n\u001b[1;37m                                                                                                                                                                                                                                                    \n^\u001b[0m\n\u001b[1;31mSyntaxError\u001b[0m\u001b[1;31m:\u001b[0m EOL while scanning string literal\n"
     ]
    }
   ],
   "source": [
    "I had an absolutely amazing stay at \n",
    "Golden Peak Guest House! From the moment I arrived, \n",
    "I was impressed by the warm and friendly staff who \n",
    "went above and beyond to make me feel welcome.\n",
    "The rooms were not only impeccably clean and beautifully decorated, \n",
    "but they also offered breathtaking views of the surrounding mountains."
   ]
  },
  {
   "cell_type": "code",
   "execution_count": 35,
   "metadata": {},
   "outputs": [
    {
     "data": {
      "text/plain": [
       "RecognizeEntitiesResult(id=0, entities=[CategorizedEntity(text=Golden Peak Guest House, category=Location, subcategory=None, length=23, offset=36, confidence_score=0.89), CategorizedEntity(text=staff, category=PersonType, subcategory=None, length=5, offset=129, confidence_score=0.83), CategorizedEntity(text=rooms, category=Location, subcategory=None, length=5, offset=190, confidence_score=0.71), CategorizedEntity(text=mountains, category=Location, subcategory=Geographical, length=9, offset=314, confidence_score=0.91)], warnings=[], statistics=None, is_error=False, kind=EntityRecognition)"
      ]
     },
     "execution_count": 35,
     "metadata": {},
     "output_type": "execute_result"
    }
   ],
   "source": [
    "entities = cog_client.recognize_entities(documents=document)\n",
    "entities[0]"
   ]
  },
  {
   "cell_type": "code",
   "execution_count": null,
   "metadata": {},
   "outputs": [],
   "source": []
  },
  {
   "cell_type": "code",
   "execution_count": null,
   "metadata": {},
   "outputs": [],
   "source": []
  },
  {
   "cell_type": "code",
   "execution_count": 10,
   "metadata": {},
   "outputs": [
    {
     "name": "stdout",
     "output_type": "stream",
     "text": [
      "\n",
      "Language: English\n",
      "\n",
      "Sentiment: positive\n",
      "\n",
      "Key Phrases:\n",
      "\tGolden Peak Guest House\n",
      "\tamazing stay\n",
      "\tfriendly staff\n",
      "\tbreathtaking views\n",
      "\tsurrounding mountains\n",
      "\tmoment\n",
      "\twarm\n",
      "\trooms\n",
      "\n",
      "Entities\n",
      "\tGolden Peak Guest House (Location)\n",
      "\tstaff (PersonType)\n",
      "\trooms (Location)\n",
      "\tmountains (Location)\n",
      "\n",
      "Links\n",
      "\tSpantik (https://en.wikipedia.org/wiki/Spantik)\n",
      "\tGuest house (https://en.wikipedia.org/wiki/Guest_house)\n"
     ]
    }
   ],
   "source": [
    "\n",
    "\n",
    "# Get language\n",
    "detectedLanguage = cog_client.detect_language(documents=document)[0]\n",
    "print('\\nLanguage: {}'.format(detectedLanguage.primary_language.name))\n",
    "\n",
    "# Get sentiment\n",
    "sentimentAnalysis = cog_client.analyze_sentiment(documents=document)[0]\n",
    "print(\"\\nSentiment: {}\".format(sentimentAnalysis.sentiment))\n",
    "\n",
    "\n",
    "# Get key phrases\n",
    "phrases = cog_client.extract_key_phrases(documents=document)[0].key_phrases\n",
    "if len(phrases) > 0:\n",
    "    print(\"\\nKey Phrases:\")\n",
    "    for phrase in phrases:\n",
    "        print('\\t{}'.format(phrase))\n",
    "\n",
    "# Get entities\n",
    "entities = cog_client.recognize_entities(documents=document)[0].entities\n",
    "if len(entities) > 0:\n",
    "    print(\"\\nEntities\")\n",
    "    for entity in entities:\n",
    "        print('\\t{} ({})'.format(entity.text, entity.category))\n",
    "\n",
    "\n",
    "# Get linked entities\n",
    "entities = cog_client.recognize_linked_entities(documents=document)[0].entities\n",
    "if len(entities) > 0:\n",
    "    print(\"\\nLinks\")\n",
    "    for linked_entity in entities:\n",
    "        print('\\t{} ({})'.format(linked_entity.name, linked_entity.url))\n"
   ]
  },
  {
   "cell_type": "code",
   "execution_count": 4,
   "metadata": {},
   "outputs": [
    {
     "name": "stdout",
     "output_type": "stream",
     "text": [
      "\n",
      "-------------\n",
      "review1.txt\n",
      "\n",
      "Good Hotel and staff\n",
      "The Royal Hotel, London, UK\n",
      "3/2/2018\n",
      "Clean rooms, good service, great location near Buckingham Palace and Westminster Abbey, and so on. We thoroughly enjoyed our stay. The courtyard is very peaceful and we went to a restaurant which is part of the same group and is Indian ( West coast so plenty of fish) with a Michelin Star. We had the taster menu which was fabulous. The rooms were very well appointed with a kitchen, lounge, bedroom and enormous bathroom. Thoroughly recommended.\n",
      "\n",
      "Language: English\n",
      "\n",
      "Sentiment: positive\n",
      "\n",
      "Key Phrases:\n",
      "\tThe Royal Hotel\n",
      "\tGood Hotel\n",
      "\tgood service\n",
      "\tgreat location\n",
      "\tBuckingham Palace\n",
      "\tWestminster Abbey\n",
      "\tsame group\n",
      "\tWest coast\n",
      "\tMichelin Star\n",
      "\ttaster menu\n",
      "\tenormous bathroom\n",
      "\tClean rooms\n",
      "\tstaff\n",
      "\tLondon\n",
      "\tUK\n",
      "\tstay\n",
      "\tcourtyard\n",
      "\trestaurant\n",
      "\tpart\n",
      "\tplenty\n",
      "\tfish\n",
      "\tkitchen\n",
      "\tlounge\n",
      "\tbedroom\n",
      "\n",
      "Entities\n",
      "\tHotel (Location)\n",
      "\tstaff (PersonType)\n",
      "\tThe Royal Hotel (Location)\n",
      "\tLondon (Location)\n",
      "\tUK (Location)\n",
      "\t3/2/2018 (DateTime)\n",
      "\tBuckingham Palace (Location)\n",
      "\tWestminster Abbey (Location)\n",
      "\tcourtyard (Location)\n",
      "\trestaurant (Location)\n",
      "\tIndian (PersonType)\n",
      "\tWest coast (Location)\n",
      "\tfish (Product)\n",
      "\tMichelin (Product)\n",
      "\ttaster (PersonType)\n",
      "\trooms (Location)\n",
      "\tkitchen (Location)\n",
      "\tlounge (Location)\n",
      "\tbedroom (Location)\n",
      "\tbathroom (Location)\n",
      "\n",
      "Links\n",
      "\tGOOD Music (https://en.wikipedia.org/wiki/GOOD_Music)\n",
      "\tHotel (https://en.wikipedia.org/wiki/Hotel)\n",
      "\tThe Royal Hotel (https://en.wikipedia.org/wiki/The_Royal_Hotel)\n",
      "\tLondon (https://en.wikipedia.org/wiki/London)\n",
      "\tBuckingham Palace (https://en.wikipedia.org/wiki/Buckingham_Palace)\n",
      "\tWestminster Abbey (https://en.wikipedia.org/wiki/Westminster_Abbey)\n",
      "\tIndia (https://en.wikipedia.org/wiki/India)\n",
      "\tWest Coast Main Line (https://en.wikipedia.org/wiki/West_Coast_Main_Line)\n",
      "\tMichelin Guide (https://en.wikipedia.org/wiki/Michelin_Guide)\n",
      "\n",
      "-------------\n",
      "review2.txt\n",
      "\n",
      "Tired hotel with poor service\n",
      "The Royal Hotel, London, United Kingdom\n",
      "5/6/2018\n",
      "This is a old hotel (has been around since 1950's) and the room furnishings are average - becoming a bit old now and require changing. The internet didn't work and had to come to one of their office rooms to check in for my flight home. The website says it's close to the British Museum, but it's too far to walk.\n",
      "\n",
      "Language: English\n",
      "\n",
      "Sentiment: negative\n",
      "\n",
      "Key Phrases:\n",
      "\tThe Royal Hotel\n",
      "\tTired hotel\n",
      "\told hotel\n",
      "\tpoor service\n",
      "\tUnited Kingdom\n",
      "\troom furnishings\n",
      "\toffice rooms\n",
      "\tflight home\n",
      "\tBritish Museum\n",
      "\tLondon\n",
      "\tchanging\n",
      "\tinternet\n",
      "\twebsite\n",
      "\t1950\n",
      "\n",
      "Entities\n",
      "\thotel (Location)\n",
      "\tThe Royal Hotel (Location)\n",
      "\tLondon (Location)\n",
      "\tUnited Kingdom (Location)\n",
      "\t5/6/2018 (DateTime)\n",
      "\thotel (Location)\n",
      "\tsince 1950's (DateTime)\n",
      "\tbit (Quantity)\n",
      "\tnow (DateTime)\n",
      "\tone (Quantity)\n",
      "\toffice rooms (Location)\n",
      "\thome (Location)\n",
      "\tBritish Museum (Location)\n",
      "\n",
      "Links\n",
      "\tThe Royal Hotel (https://en.wikipedia.org/wiki/The_Royal_Hotel)\n",
      "\tLondon (https://en.wikipedia.org/wiki/London)\n",
      "\tBritish Museum (https://en.wikipedia.org/wiki/British_Museum)\n",
      "\n",
      "-------------\n",
      "review3.txt\n",
      "\n",
      "Good location and helpful staff, but on a busy road.\n",
      "The Lombard Hotel, San Francisco, USA\n",
      "8/16/2018\n",
      "We stayed here in August after reading reviews. We were very pleased with location, just behind Chestnut Street, a cosmopolitan and trendy area with plenty of restaurants to choose from. The\n",
      "Marina district was lovely to wander through, very interesting houses. Make sure to walk to the San Francisco Museum of Fine Arts and the Marina to get a good view of Golden Gate bridge and the city. On a bus route and easy to get into centre. Rooms were clean with plenty of room and staff were friendly and helpful. The only down side was the noise from Lombard Street so ask to have a room furthest away from traffic noise.\n",
      "\n",
      "Language: English\n",
      "\n",
      "Sentiment: mixed\n",
      "\n",
      "Key Phrases:\n",
      "\tGolden Gate bridge\n",
      "\tThe Lombard Hotel\n",
      "\tThe Marina district\n",
      "\tSan Francisco Museum\n",
      "\tLombard Street\n",
      "\tbusy road\n",
      "\tChestnut Street\n",
      "\ttrendy area\n",
      "\tinteresting houses\n",
      "\tFine Arts\n",
      "\tgood view\n",
      "\tbus route\n",
      "\tdown side\n",
      "\tGood location\n",
      "\thelpful staff\n",
      "\ttraffic noise\n",
      "\tUSA\n",
      "\tWe\n",
      "\tAugust\n",
      "\treviews\n",
      "\tcosmopolitan\n",
      "\tplenty\n",
      "\trestaurants\n",
      "\tcity\n",
      "\tcentre\n",
      "\tRooms\n",
      "\n",
      "Entities\n",
      "\tstaff (PersonType)\n",
      "\tThe Lombard Hotel (Location)\n",
      "\tSan Francisco (Location)\n",
      "\tUSA (Location)\n",
      "\t8/16/2018 (DateTime)\n",
      "\tAugust (DateTime)\n",
      "\tChestnut Street (Address)\n",
      "\trestaurants (Location)\n",
      "\tMarina district (Location)\n",
      "\thouses (Location)\n",
      "\tSan (Location)\n",
      "\tFrancisco Museum of Fine Arts (Location)\n",
      "\tMarina (Location)\n",
      "\tGolden Gate bridge (Location)\n",
      "\tcity (Location)\n",
      "\tcentre (Location)\n",
      "\tRooms (Location)\n",
      "\troom (Location)\n",
      "\tstaff (PersonType)\n",
      "\tLombard Street (Address)\n",
      "\troom (Location)\n",
      "\n",
      "Links\n",
      "\tLombardy (https://en.wikipedia.org/wiki/Lombardy)\n",
      "\tHotel (https://en.wikipedia.org/wiki/Hotel)\n",
      "\tSan Francisco (https://en.wikipedia.org/wiki/San_Francisco)\n",
      "\tChestnut Street (Philadelphia) (https://en.wikipedia.org/wiki/Chestnut_Street_(Philadelphia))\n",
      "\tMarina District, San Francisco (https://en.wikipedia.org/wiki/Marina_District,_San_Francisco)\n",
      "\tMuseum of Fine Arts, Boston (https://en.wikipedia.org/wiki/Museum_of_Fine_Arts,_Boston)\n",
      "\tGolden Gate Bridge (https://en.wikipedia.org/wiki/Golden_Gate_Bridge)\n",
      "\tRoom (https://en.wikipedia.org/wiki/Room)\n",
      "\tLombard Street (San Francisco) (https://en.wikipedia.org/wiki/Lombard_Street_(San_Francisco))\n",
      "\n",
      "-------------\n",
      "review4.txt\n",
      "\n",
      "Very noisy and rooms are tiny\n",
      "The Lombard Hotel, San Francisco, USA\n",
      "9/5/2018\n",
      "Hotel is located on Lombard street which is a very busy SIX lane street directly off the Golden Gate Bridge. Traffic from early morning until late at night especially on weekends. Noise would not be so bad if rooms were better insulated but they are not. Had to put cotton balls in my ears to be able to sleep--was too tired to enjoy the city the next day. Rooms are TINY. I picked the room because it had two queen size beds--but the room barely had space to fit them. With family of four in the room it was tight. With all that said, rooms are clean and they've made an effort to update them. The hotel is in Marina district with lots of good places to eat, within walking distance to Presidio. May be good hotel for young stay-up-late adults on a budget\n",
      "\n",
      "\n",
      "Language: English\n",
      "\n",
      "Sentiment: mixed\n",
      "\n",
      "Key Phrases:\n",
      "\ttwo queen size beds\n",
      "\tbusy SIX lane street\n",
      "\tGolden Gate Bridge\n",
      "\tThe Lombard Hotel\n",
      "\tLombard street\n",
      "\tSan Francisco\n",
      "\tearly morning\n",
      "\tcotton balls\n",
      "\tMarina district\n",
      "\tgood places\n",
      "\twalking distance\n",
      "\tlate adults\n",
      "\tgood hotel\n",
      "\trooms\n",
      "\tUSA\n",
      "\tTraffic\n",
      "\tnight\n",
      "\tweekends\n",
      "\tNoise\n",
      "\tears\n",
      "\tcity\n",
      "\tTINY\n",
      "\tspace\n",
      "\tfamily\n",
      "\teffort\n",
      "\tlots\n",
      "\tPresidio\n",
      "\tyoung\n",
      "\tbudget\n",
      "\n",
      "Entities\n",
      "\trooms (Location)\n",
      "\tThe Lombard Hotel (Location)\n",
      "\tSan Francisco (Location)\n",
      "\tUSA (Location)\n",
      "\t9/5/2018 (DateTime)\n",
      "\tHotel (Location)\n",
      "\tLombard street (Address)\n",
      "\tSIX (Quantity)\n",
      "\tGolden Gate Bridge (Location)\n",
      "\tearly morning (DateTime)\n",
      "\tnight (DateTime)\n",
      "\tweekends (DateTime)\n",
      "\trooms (Location)\n",
      "\tcotton balls (Product)\n",
      "\tthe next day (DateTime)\n",
      "\tRooms (Location)\n",
      "\troom (Location)\n",
      "\ttwo (Quantity)\n",
      "\tbeds (Product)\n",
      "\troom (Location)\n",
      "\tfour in (Quantity)\n",
      "\troom (Location)\n",
      "\trooms (Location)\n",
      "\thotel (Location)\n",
      "\tMarina district (Location)\n",
      "\tPresidio (Location)\n",
      "\thotel (Location)\n",
      "\n",
      "Links\n",
      "\tLombard, Illinois (https://en.wikipedia.org/wiki/Lombard,_Illinois)\n",
      "\tHotel (https://en.wikipedia.org/wiki/Hotel)\n",
      "\tSan Francisco (https://en.wikipedia.org/wiki/San_Francisco)\n",
      "\tLombard Street (San Francisco) (https://en.wikipedia.org/wiki/Lombard_Street_(San_Francisco))\n",
      "\tGolden Gate Bridge (https://en.wikipedia.org/wiki/Golden_Gate_Bridge)\n",
      "\tTraffic (https://en.wikipedia.org/wiki/Traffic)\n",
      "\tNoise rock (https://en.wikipedia.org/wiki/Noise_rock)\n",
      "\tRoom (https://en.wikipedia.org/wiki/Room)\n",
      "\tMarina District, San Francisco (https://en.wikipedia.org/wiki/Marina_District,_San_Francisco)\n",
      "\tPresidio of San Francisco (https://en.wikipedia.org/wiki/Presidio_of_San_Francisco)\n",
      "\tMay (https://en.wikipedia.org/wiki/May)\n"
     ]
    }
   ],
   "source": [
    "# Analyze each text file in the reviews folder\n",
    "import os\n",
    "reviews_folder = 'data/reviews'\n",
    "for file_name in os.listdir(reviews_folder):\n",
    "    # Read the file contents\n",
    "    print('\\n-------------\\n' + file_name)\n",
    "    text = open(os.path.join(reviews_folder, file_name), encoding='utf8').read()\n",
    "    print('\\n' + text)\n",
    "\n",
    "    # Get language\n",
    "    detectedLanguage = cog_client.detect_language(documents=[text])[0]\n",
    "    print('\\nLanguage: {}'.format(detectedLanguage.primary_language.name))\n",
    "\n",
    "\n",
    "    # Get sentiment\n",
    "    sentimentAnalysis = cog_client.analyze_sentiment(documents=[text])[0]\n",
    "    print(\"\\nSentiment: {}\".format(sentimentAnalysis.sentiment))\n",
    "\n",
    "\n",
    "    # Get key phrases\n",
    "    phrases = cog_client.extract_key_phrases(documents=[text])[0].key_phrases\n",
    "    if len(phrases) > 0:\n",
    "        print(\"\\nKey Phrases:\")\n",
    "        for phrase in phrases:\n",
    "            print('\\t{}'.format(phrase))\n",
    "\n",
    "    # Get entities\n",
    "    entities = cog_client.recognize_entities(documents=[text])[0].entities\n",
    "    if len(entities) > 0:\n",
    "        print(\"\\nEntities\")\n",
    "        for entity in entities:\n",
    "            print('\\t{} ({})'.format(entity.text, entity.category))\n",
    "\n",
    "\n",
    "    # Get linked entities\n",
    "    entities = cog_client.recognize_linked_entities(documents=[text])[0].entities\n",
    "    if len(entities) > 0:\n",
    "        print(\"\\nLinks\")\n",
    "        for linked_entity in entities:\n",
    "            print('\\t{} ({})'.format(linked_entity.name, linked_entity.url))\n"
   ]
  },
  {
   "cell_type": "markdown",
   "metadata": {},
   "source": [
    "# Translate Text\n",
    "The Translator service is an Azure AI service that enables you to translate text between languages.\n",
    "\n",
    "For example, suppose a travel agency wants to examine hotel reviews that have been submitted to the company’s web site, standardizing on English as the language that is used for analysis. By using the Translator service, they can determine the language each review is written in, and if it is not already English, translate it from whatever source language it was written in into English.\n",
    "\n",
    "The Translator service can automatically detect the source language of text to be translated, but it also enables you to explicitly detect the language in which text is written."
   ]
  },
  {
   "cell_type": "code",
   "execution_count": null,
   "metadata": {},
   "outputs": [],
   "source": []
  },
  {
   "cell_type": "code",
   "execution_count": 42,
   "metadata": {},
   "outputs": [],
   "source": [
    "import os\n",
    "import requests, json\n",
    "\n",
    "# Get Configuration Settings\n",
    "cog_key = \"8a0d5d61676d4f1dadba1a87a7a0c8fe\"\n",
    "cog_region = \"eastus2\"\n",
    "translator_endpoint = 'https://api.cognitive.microsofttranslator.com/'"
   ]
  },
  {
   "cell_type": "code",
   "execution_count": 43,
   "metadata": {},
   "outputs": [],
   "source": [
    "# Analyze each text file in the reviews folder\n",
    "text = \"Il s'agit d'un vieil hôtel (qui existe depuis les années 1950) et le mobilier des chambres est moyen - il devient un peu vieux maintenant et doit être changé. Internet ne fonctionnait pas et j'ai dû me rendre dans l'un de leurs bureaux pour m'enregistrer pour mon vol de retour. Le site Internet indique que c'est proche du British Museum, mais c'est trop loin pour y aller à pied.\"\n",
    "\n",
    "source_language = cog_client.detect_language(documents=[text])[0][\"primary_language\"][\"iso6391_name\"]"
   ]
  },
  {
   "cell_type": "code",
   "execution_count": 47,
   "metadata": {},
   "outputs": [
    {
     "data": {
      "text/plain": [
       "[{'translations': [{'text': \"This is an old hotel (which has been around since the 1950s) and the furniture in the rooms is average - it's getting a bit old now and needs to be changed. The internet wasn't working and I had to go to one of their offices to check in for my flight home. The website says it's close to the British Museum, but it's too far to walk there.\",\n",
       "    'to': 'en'},\n",
       "   {'text': 'یہ ایک پرانا ہوٹل ہے (جو 1950 کی دہائی سے موجود ہے) اور کمروں میں فرنیچر اوسط ہے - یہ اب تھوڑا پرانا ہو رہا ہے اور اسے تبدیل کرنے کی ضرورت ہے۔ انٹرنیٹ کام نہیں کر رہا تھا اور مجھے اپنے گھر جانے کے لئے چیک ان کرنے کے لئے ان کے ایک دفتر جانا پڑا۔ ویب سائٹ کا کہنا ہے کہ یہ برٹش میوزیم کے قریب ہے، لیکن وہاں چلنا بہت دور ہے۔',\n",
       "    'to': 'ur'}]}]"
      ]
     },
     "execution_count": 47,
     "metadata": {},
     "output_type": "execute_result"
    }
   ],
   "source": [
    "# Use the Translator translate function\n",
    "path = '/translate'\n",
    "url = translator_endpoint + path\n",
    "\n",
    "# Build the request\n",
    "params = {\n",
    "    'api-version': '3.0',\n",
    "    'from': source_language,\n",
    "    'to': ['en', \"ur\"]\n",
    "}\n",
    "\n",
    "headers = {\n",
    "    'Ocp-Apim-Subscription-Key': cog_key,\n",
    "    'Ocp-Apim-Subscription-Region': cog_region,\n",
    "    'Content-type': 'application/json'\n",
    "}\n",
    "\n",
    "body = [{\n",
    "    'text': text\n",
    "}]\n",
    "\n",
    "# Send the request and get response\n",
    "result = requests.post(url, params=params, headers=headers, json=body)\n",
    "response = result.json()\n",
    "response"
   ]
  },
  {
   "cell_type": "markdown",
   "metadata": {},
   "source": [
    "\n",
    "<h1 style=\"color:red; font-size:48px; text-align:center\">Home Task: Language Translation with Azure AI</h1>\n",
    "\n",
    "In this home task, you will practice using Azure AI's Language Translation service to translate text from various languages into English. You will work with at least 10 text records or reviews written in a minimum of 5 different languages. Follow the instructions below to complete the task:\n",
    "\n",
    "## Task Instructions:\n",
    "\n",
    "### Collect Text Data\n",
    "\n",
    "Gather at least 10 text records or reviews written in different languages. You can use online sources, books, articles, or any text in languages other than English.\n",
    "\n",
    "### Translate Text\n",
    "\n",
    "Write a Python script that uses the Azure AI Language Translation service to translate each text record into English. You can use the following steps as a guide:\n",
    "\n",
    "- a. Import the required libraries.\n",
    "\n",
    "- b. Define your Azure AI service credentials, including the API key, region, and endpoint. Use the provided code snippet as an example to set up your configuration.\n",
    "\n",
    "- c. For each text record, use the Translator service to detect the language it is written in. You can follow the example code provided in your lab content under the \"source_language\" variable.\n",
    "\n",
    "- d. If the detected language is not already English, use the Translator service to translate the text into English. Refer to the example code provided under the \"Translation\" section in your lab content.\n",
    "\n",
    "- e. Save the original text and the translated text along with the detected language into a data structure for later analysis.\n",
    "\n",
    "### Run the Translation Script\n",
    "\n",
    "Execute your Python script to perform the translations for all 10 text records.\n",
    "\n",
    "### Record the Results\n",
    "\n",
    "Record the original text, translated text, and detected language for each text record in a table or spreadsheet."
   ]
  },
  {
   "cell_type": "code",
   "execution_count": null,
   "metadata": {},
   "outputs": [],
   "source": [
    "cog_client."
   ]
  }
 ],
 "metadata": {
  "kernelspec": {
   "display_name": "Python 3 (ipykernel)",
   "language": "python",
   "name": "python3"
  },
  "language_info": {
   "codemirror_mode": {
    "name": "ipython",
    "version": 3
   },
   "file_extension": ".py",
   "mimetype": "text/x-python",
   "name": "python",
   "nbconvert_exporter": "python",
   "pygments_lexer": "ipython3",
   "version": "3.9.13"
  }
 },
 "nbformat": 4,
 "nbformat_minor": 2
}
